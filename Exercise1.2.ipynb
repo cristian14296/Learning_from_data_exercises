{
 "cells": [
  {
   "cell_type": "markdown",
   "id": "9926db04",
   "metadata": {},
   "source": [
    "# Exercise 1.2"
   ]
  },
  {
   "cell_type": "markdown",
   "id": "9eb26312",
   "metadata": {},
   "source": [
    "Suppose that we use perceptron to detect spam messages. Let´s say that each email message is represented by the frequency of ocurrence of the keywords, and the output is +1 if the message is considered spam. \n",
    "a) Can you think of some keywords that will end up with a large positive weight in the perceptron?. \n",
    "b) How about keywords that will get negative weight? \n",
    "c) What parameter in the perceptron directly affects how many border-line messages end up being classified as spam?"
   ]
  },
  {
   "cell_type": "markdown",
   "id": "02660a90",
   "metadata": {},
   "source": [
    "** Respuestas**"
   ]
  },
  {
   "cell_type": "markdown",
   "id": "56885686",
   "metadata": {},
   "source": [
    "a) En el contecto de detectar mensajes tipo spam usando un perceptron. algunas palabras o frases se puede configurar con una ponderación más alta, las cuales indicarían con mayor probabilidad la ocurrencia de un mensaje spam. Algunas palabras pueden ser: \n",
    " --\"Su cuenta bancaria fue bloqueada\"\n",
    " --\" Mensaje urgente de departamento de impuestos de su país\"\n",
    " --\" Viaje Gratis\"\n",
    " --\" Paquete enviado por Fedex no puede ser entregado\"\n",
    " -- \" Urgente\"\n",
    " -- \"Alerta\"\n",
    " -- \"Oferta de empleo\""
   ]
  },
  {
   "cell_type": "markdown",
   "id": "0a577ce6",
   "metadata": {},
   "source": [
    "b) Por otro lado, palabras que se ponderarían con un peso negativo, harían referencia a un correo tipo No Spam. Las cuales podrían ser:\n",
    "-- \" Secure\"\n",
    "-- \" Legítimo\"\n",
    "-- \" Proyecto\"\n",
    "-- \" Universidad\""
   ]
  },
  {
   "cell_type": "markdown",
   "id": "ad208376",
   "metadata": {},
   "source": [
    "c)  El parámetro en el perceptrón que afecta directamente cuántos mensajes borderline terminan siendo clasificados como spam es el término de sesgo (bias). El sesgo actúa como un umbral o límite de decisión para la salida del perceptrón. Si el sesgo se establece en un valor negativo grande, más mensajes borderline serán clasificados como spam. Por el contrario, si el sesgo se establece en un valor positivo grande, menos mensajes borderline serán clasificados como spam. Al ajustar el sesgo, podemos controlar el equilibrio entre falsos positivos (clasificar no spam como spam) y falsos negativos (clasificar spam como no spam)."
   ]
  }
 ],
 "metadata": {
  "kernelspec": {
   "display_name": "Python 3 (ipykernel)",
   "language": "python",
   "name": "python3"
  },
  "language_info": {
   "codemirror_mode": {
    "name": "ipython",
    "version": 3
   },
   "file_extension": ".py",
   "mimetype": "text/x-python",
   "name": "python",
   "nbconvert_exporter": "python",
   "pygments_lexer": "ipython3",
   "version": "3.10.9"
  }
 },
 "nbformat": 4,
 "nbformat_minor": 5
}
